{
  "nbformat": 4,
  "nbformat_minor": 0,
  "metadata": {
    "colab": {
      "name": "abhishek.ipynb",
      "provenance": [],
      "collapsed_sections": [],
      "authorship_tag": "ABX9TyOwLY6kc4hBsH/PcAYjsmNs",
      "include_colab_link": true
    },
    "kernelspec": {
      "name": "python3",
      "display_name": "Python 3"
    },
    "language_info": {
      "name": "python"
    }
  },
  "cells": [
    {
      "cell_type": "markdown",
      "metadata": {
        "id": "view-in-github",
        "colab_type": "text"
      },
      "source": [
        "<a href=\"https://colab.research.google.com/github/abhishekghz/Abhishek-Gautam/blob/main/abhishek.ipynb\" target=\"_parent\"><img src=\"https://colab.research.google.com/assets/colab-badge.svg\" alt=\"Open In Colab\"/></a>"
      ]
    },
    {
      "cell_type": "markdown",
      "metadata": {
        "id": "IBIwjyibNPnq"
      },
      "source": [
        "# Abhishek gautam\n",
        "# Roll :- 2007477\n",
        "# A1 group\n",
        "# B.tech CSE "
      ]
    },
    {
      "cell_type": "markdown",
      "metadata": {
        "id": "Iymni5l9IYbK"
      },
      "source": [
        "1.) print spaces in Python"
      ]
    },
    {
      "cell_type": "code",
      "metadata": {
        "colab": {
          "base_uri": "https://localhost:8080/"
        },
        "id": "b_hSsBBgIHiT",
        "outputId": "2e866b24-3d9b-411f-9161-5e0e6488f842"
      },
      "source": [
        "print(\"Helloabhishek\")\n",
        "\n",
        "print(\"Hello\"+\" \"+\"Abhishek\")"
      ],
      "execution_count": 24,
      "outputs": [
        {
          "output_type": "stream",
          "text": [
            "Helloabhishek\n",
            "Hello Abhishek\n"
          ],
          "name": "stdout"
        }
      ]
    },
    {
      "cell_type": "markdown",
      "metadata": {
        "id": "L5kHqCTrIx7x"
      },
      "source": [
        "2.) Printing different messages by using different variations of\n",
        "print() method."
      ]
    },
    {
      "cell_type": "code",
      "metadata": {
        "colab": {
          "base_uri": "https://localhost:8080/"
        },
        "id": "oHxL9caTIxJl",
        "outputId": "47e31c2c-d87b-405d-e442-752f3105895f"
      },
      "source": [
        "\n",
        "print(\"Hello\")\n",
        "print(\"Abhishek\")\n",
        "\n",
        "print(\"Hello\")\n",
        "\n",
        "print()\n",
        "\n",
        "print(\"Hello\",end=\" \")\n",
        "\n",
        "print(\"World\")\n"
      ],
      "execution_count": 25,
      "outputs": [
        {
          "output_type": "stream",
          "text": [
            "Hello\n",
            "Abhishek\n",
            "Hello\n",
            "\n",
            "Hello World\n"
          ],
          "name": "stdout"
        }
      ]
    },
    {
      "cell_type": "markdown",
      "metadata": {
        "id": "pP9zyCybJXCZ"
      },
      "source": [
        "3.) Python program to print given text using a user-defined method"
      ]
    },
    {
      "cell_type": "code",
      "metadata": {
        "colab": {
          "base_uri": "https://localhost:8080/"
        },
        "id": "Hth9Amf-JWdk",
        "outputId": "ea832562-1716-4ec0-e4c3-44decba57ec8"
      },
      "source": [
        "\n",
        "def fun():\n",
        "\tprint(\"HELLO ABHISHEK\")\n",
        "\n",
        "\n",
        "fun()\n"
      ],
      "execution_count": 26,
      "outputs": [
        {
          "output_type": "stream",
          "text": [
            "HELLO ABHISHEK\n"
          ],
          "name": "stdout"
        }
      ]
    },
    {
      "cell_type": "markdown",
      "metadata": {
        "id": "lchxG5ziJwtj"
      },
      "source": [
        "4.) Printing different values (integer, float, string, Boolean)."
      ]
    },
    {
      "cell_type": "code",
      "metadata": {
        "colab": {
          "base_uri": "https://localhost:8080/"
        },
        "id": "mNWQ33U2JwEf",
        "outputId": "8afc9e10-3e2b-44a4-90d7-b41e8842aeb8"
      },
      "source": [
        "print(12)\n",
        "\n",
        "print(12.56)\n",
        "\n",
        "print(\"Hello\")\n",
        " \n",
        "print(True)"
      ],
      "execution_count": 27,
      "outputs": [
        {
          "output_type": "stream",
          "text": [
            "12\n",
            "12.56\n",
            "Hello\n",
            "True\n"
          ],
          "name": "stdout"
        }
      ]
    },
    {
      "cell_type": "markdown",
      "metadata": {
        "id": "v0Bu0YZNKQg2"
      },
      "source": [
        "5.) Declare different types of variables, print their values, types and\n",
        "Ids."
      ]
    },
    {
      "cell_type": "code",
      "metadata": {
        "colab": {
          "base_uri": "https://localhost:8080/"
        },
        "id": "ucYxsqxYKP3H",
        "outputId": "a932c6c8-b3bd-48bf-a00c-f75399f4bab2"
      },
      "source": [
        "print(\"Numbers\")\n",
        "a=10\n",
        "print(type(a),id(a),a)\n",
        "a=23.7\n",
        "\n",
        "\n",
        "print(\"\\nText\")\n",
        "a='h'\n",
        "print(type(a),id(a),a)\n",
        "a=\"hello\"\n",
        "print(type(a),id(a),a)\n",
        "\n",
        "print(\"\\nBoolean\")\n",
        "a=True\n",
        "print(type(a),id(a),a)\n",
        "\n",
        "print(\"\\nFunction\")\n",
        "def fun1():\n",
        "    return \"I am Function\"\n",
        "a=fun1\n",
        "print(type(a),id(a),a())\n",
        "\n",
        "print(\"\\nObjects\")\n",
        "class Demo:\n",
        "    def hi(self):\n",
        "        return \"Hi\"\n",
        "a=Demo()\n",
        "print(type(a),id(a),a.hi())\n",
        "\n",
        "print(\"\\nCollections\")\n",
        "a=[1,2,3]\n",
        "print(type(a),id(a),a)"
      ],
      "execution_count": 28,
      "outputs": [
        {
          "output_type": "stream",
          "text": [
            "Numbers\n",
            "<class 'int'> 94428886956832 10\n",
            "\n",
            "Text\n",
            "<class 'str'> 140142628729328 h\n",
            "<class 'str'> 140142070710768 hello\n",
            "\n",
            "Boolean\n",
            "<class 'bool'> 94428886282496 True\n",
            "\n",
            "Function\n",
            "<class 'function'> 140142003905312 I am Function\n",
            "\n",
            "Objects\n",
            "<class '__main__.Demo'> 140142003432912 Hi\n",
            "\n",
            "Collections\n",
            "<class 'list'> 140142003804992 [1, 2, 3]\n"
          ],
          "name": "stdout"
        }
      ]
    },
    {
      "cell_type": "markdown",
      "metadata": {
        "id": "9QbA9QvzLtld"
      },
      "source": [
        "6.) Python program to demonstrate variables scope"
      ]
    },
    {
      "cell_type": "code",
      "metadata": {
        "colab": {
          "base_uri": "https://localhost:8080/"
        },
        "id": "livAKKM_LsOd",
        "outputId": "8fd2332a-ca41-4918-b728-514b99b96bee"
      },
      "source": [
        "\n",
        "age = 18\t\t\t\t\t\n",
        "salary = 5456.8\t\t\t\n",
        "\t\n",
        "name = \"Abhishek\"\t\t\t\n",
        "\t\n",
        "print(age)\n",
        "print(salary)\n",
        "print(name)\n"
      ],
      "execution_count": 29,
      "outputs": [
        {
          "output_type": "stream",
          "text": [
            "18\n",
            "5456.8\n",
            "Abhishek\n"
          ],
          "name": "stdout"
        }
      ]
    },
    {
      "cell_type": "markdown",
      "metadata": {
        "id": "tXqA0pf-MVOL"
      },
      "source": [
        "7.) Determine the type of an object in Python"
      ]
    },
    {
      "cell_type": "code",
      "metadata": {
        "colab": {
          "base_uri": "https://localhost:8080/"
        },
        "id": "DekCSA4qMU3c",
        "outputId": "7e6ce222-94e2-4727-ceab-68345ea3309c"
      },
      "source": [
        "print(type('string'))\n",
        "\n",
        "print(type(100))\n",
        "\n",
        "print(type([0, 1, 2]))"
      ],
      "execution_count": 30,
      "outputs": [
        {
          "output_type": "stream",
          "text": [
            "<class 'str'>\n",
            "<class 'int'>\n",
            "<class 'list'>\n"
          ],
          "name": "stdout"
        }
      ]
    },
    {
      "cell_type": "markdown",
      "metadata": {
        "id": "HMCAgM_tMtEo"
      },
      "source": [
        "8.) Create number variables (int, float and complex) and print their types\n",
        "and values in Python"
      ]
    },
    {
      "cell_type": "code",
      "metadata": {
        "colab": {
          "base_uri": "https://localhost:8080/"
        },
        "id": "3aQ9vkGnMszq",
        "outputId": "c27102c8-9791-4145-895b-6ab3e1b78e2b"
      },
      "source": [
        "\n",
        "a = 50      \n",
        "b = 40.23    \n",
        "c = 50+8j   \n",
        "\n",
        "print(\"type(a): \", type(a))\n",
        "print(\"type(b): \", type(b))\n",
        "print(\"type(c): \", type(c))\n",
        "\n",
        "print(\"value of a: \", a)\n",
        "print(\"value of b: \", b)\n",
        "print(\"value of c: \", c)\n"
      ],
      "execution_count": 31,
      "outputs": [
        {
          "output_type": "stream",
          "text": [
            "type(a):  <class 'int'>\n",
            "type(b):  <class 'float'>\n",
            "type(c):  <class 'complex'>\n",
            "value of a:  50\n",
            "value of b:  40.23\n",
            "value of c:  (50+8j)\n"
          ],
          "name": "stdout"
        }
      ]
    }
  ]
}